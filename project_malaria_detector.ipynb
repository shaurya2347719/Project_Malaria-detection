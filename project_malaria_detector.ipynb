{
  "cells": [
    {
      "cell_type": "code",
      "execution_count": null,
      "metadata": {
        "id": "cb83e066"
      },
      "outputs": [],
      "source": [
        "import os\n",
        "import pandas as pd\n",
        "import numpy as np\n",
        "import seaborn as sns\n",
        "import matplotlib.pyplot as plt\n",
        "from matplotlib.image import imread\n",
        "# Technically not necessary in newest versions of jupyter\n",
        "%matplotlib inline"
      ],
      "id": "cb83e066"
    },
    {
      "cell_type": "code",
      "execution_count": null,
      "metadata": {
        "colab": {
          "base_uri": "https://localhost:8080/"
        },
        "id": "G6IOWUc5q4om",
        "outputId": "2cf0ff1d-0cfd-48cc-9f6b-a4cb54c9f83c"
      },
      "outputs": [
        {
          "name": "stdout",
          "output_type": "stream",
          "text": [
            "Mounted at /content/drive\n"
          ]
        }
      ],
      "source": [
        "from google.colab import drive\n",
        "drive.mount('/content/drive')"
      ],
      "id": "G6IOWUc5q4om"
    },
    {
      "cell_type": "code",
      "execution_count": null,
      "metadata": {
        "id": "0167ee2f"
      },
      "outputs": [],
      "source": [
        "my_data_dir = '/content/drive/MyDrive/FINAL_TF2_FILES/cell_images'"
      ],
      "id": "0167ee2f"
    },
    {
      "cell_type": "code",
      "execution_count": null,
      "metadata": {
        "colab": {
          "base_uri": "https://localhost:8080/"
        },
        "id": "6933fc02",
        "outputId": "6436f7c3-6d86-44a4-9892-91dbecd50c0d"
      },
      "outputs": [
        {
          "data": {
            "text/plain": [
              "['test', 'train']"
            ]
          },
          "execution_count": 4,
          "metadata": {},
          "output_type": "execute_result"
        }
      ],
      "source": [
        "# CONFIRM THAT THIS REPORTS BACK 'test', and 'train'\n",
        "os.listdir(my_data_dir)"
      ],
      "id": "6933fc02"
    },
    {
      "cell_type": "code",
      "execution_count": null,
      "metadata": {
        "id": "0edee95b"
      },
      "outputs": [],
      "source": [
        "test_path = my_data_dir+'/test'\n",
        "train_path = my_data_dir+'/train'"
      ],
      "id": "0edee95b"
    },
    {
      "cell_type": "code",
      "execution_count": null,
      "metadata": {
        "colab": {
          "base_uri": "https://localhost:8080/"
        },
        "id": "e63595c8",
        "outputId": "045c4b01-cdb8-4c00-a11d-f3dec54cd6ca"
      },
      "outputs": [
        {
          "data": {
            "text/plain": [
              "['parasitized', 'uninfected']"
            ]
          },
          "execution_count": 6,
          "metadata": {},
          "output_type": "execute_result"
        }
      ],
      "source": [
        "os.listdir(test_path)"
      ],
      "id": "e63595c8"
    },
    {
      "cell_type": "code",
      "execution_count": null,
      "metadata": {
        "colab": {
          "base_uri": "https://localhost:8080/"
        },
        "id": "709a9204",
        "outputId": "cb7f9b0f-c365-4e66-f6e4-f381b730180b"
      },
      "outputs": [
        {
          "data": {
            "text/plain": [
              "['parasitized', 'uninfected']"
            ]
          },
          "execution_count": 7,
          "metadata": {},
          "output_type": "execute_result"
        }
      ],
      "source": [
        "os.listdir(train_path)"
      ],
      "id": "709a9204"
    },
    {
      "cell_type": "code",
      "execution_count": null,
      "metadata": {
        "colab": {
          "base_uri": "https://localhost:8080/",
          "height": 35
        },
        "id": "07999f07",
        "outputId": "307d847c-7379-46dc-b31d-4fb8eec09fc7"
      },
      "outputs": [
        {
          "data": {
            "application/vnd.google.colaboratory.intrinsic+json": {
              "type": "string"
            },
            "text/plain": [
              "'C95P56ThinF_IMG_20150821_171701_cell_98.png'"
            ]
          },
          "execution_count": 8,
          "metadata": {},
          "output_type": "execute_result"
        }
      ],
      "source": [
        "os.listdir(train_path+'/parasitized')[0]"
      ],
      "id": "07999f07"
    },
    {
      "cell_type": "code",
      "execution_count": null,
      "metadata": {
        "id": "9b3a3e74"
      },
      "outputs": [],
      "source": [
        "para_cell = train_path+'/parasitized'+'/C100P61ThinF_IMG_20150918_144104_cell_162.png'"
      ],
      "id": "9b3a3e74"
    },
    {
      "cell_type": "code",
      "execution_count": null,
      "metadata": {
        "id": "51c5340d"
      },
      "outputs": [],
      "source": [
        "para_img= imread(para_cell)"
      ],
      "id": "51c5340d"
    },
    {
      "cell_type": "code",
      "execution_count": null,
      "metadata": {
        "colab": {
          "base_uri": "https://localhost:8080/",
          "height": 286
        },
        "id": "a58df0ff",
        "outputId": "9f7f7b00-4dcc-4bd2-a589-60b4ec84cf6e"
      },
      "outputs": [
        {
          "data": {
            "text/plain": [
              "<matplotlib.image.AxesImage at 0x7fde060b7d50>"
            ]
          },
          "execution_count": 11,
          "metadata": {},
          "output_type": "execute_result"
        },
        {
          "data": {
            "image/png": "[encoded data removed]",
            "text/plain": [
              "<Figure size 432x288 with 1 Axes>"
            ]
          },
          "metadata": {},
          "output_type": "display_data"
        }
      ],
      "source": [
        "plt.imshow(para_img)"
      ],
      "id": "a58df0ff"
    },
    {
      "cell_type": "code",
      "execution_count": null,
      "metadata": {
        "colab": {
          "base_uri": "https://localhost:8080/"
        },
        "id": "9c910a54",
        "outputId": "822002a2-587b-4fc4-9804-10598abdafef"
      },
      "outputs": [
        {
          "data": {
            "text/plain": [
              "(148, 142, 3)"
            ]
          },
          "execution_count": 12,
          "metadata": {},
          "output_type": "execute_result"
        }
      ],
      "source": [
        "para_img.shape"
      ],
      "id": "9c910a54"
    },
    {
      "cell_type": "code",
      "execution_count": null,
      "metadata": {
        "colab": {
          "base_uri": "https://localhost:8080/",
          "height": 285
        },
        "id": "ebd33875",
        "outputId": "b50ba556-99a8-4757-fd34-078003d0062a"
      },
      "outputs": [
        {
          "data": {
            "text/plain": [
              "<matplotlib.image.AxesImage at 0x7fde060c73d0>"
            ]
          },
          "execution_count": 13,
          "metadata": {},
          "output_type": "execute_result"
        },
        {
          "data": {
            "image/png": "[encoded data removed]",
            "text/plain": [
              "<Figure size 432x288 with 1 Axes>"
            ]
          },
          "metadata": {},
          "output_type": "display_data"
        }
      ],
      "source": [
        "unifected_cell_path = train_path+'/uninfected/'+os.listdir(train_path+'/uninfected')[0]\n",
        "unifected_cell = imread(unifected_cell_path)\n",
        "plt.imshow(unifected_cell)"
      ],
      "id": "ebd33875"
    },
    {
      "cell_type": "code",
      "execution_count": null,
      "metadata": {
        "colab": {
          "base_uri": "https://localhost:8080/"
        },
        "id": "28ea4d55",
        "outputId": "3240fe50-da99-4f04-b448-6800c6f8171c"
      },
      "outputs": [
        {
          "data": {
            "text/plain": [
              "12500"
            ]
          },
          "execution_count": 14,
          "metadata": {},
          "output_type": "execute_result"
        }
      ],
      "source": [
        "len(os.listdir(train_path+'/parasitized'))"
      ],
      "id": "28ea4d55"
    },
    {
      "cell_type": "code",
      "execution_count": null,
      "metadata": {
        "colab": {
          "base_uri": "https://localhost:8080/"
        },
        "id": "0f64d9aa",
        "outputId": "69e1ecf3-1630-451e-fa5d-90ba886761f0"
      },
      "outputs": [
        {
          "data": {
            "text/plain": [
              "12490"
            ]
          },
          "execution_count": 15,
          "metadata": {},
          "output_type": "execute_result"
        }
      ],
      "source": [
        "len(os.listdir(train_path+'/uninfected'))"
      ],
      "id": "0f64d9aa"
    },
    {
      "cell_type": "code",
      "execution_count": null,
      "metadata": {
        "colab": {
          "base_uri": "https://localhost:8080/"
        },
        "id": "e5ba7633",
        "outputId": "2bd3a6c8-82f1-4d03-82a1-61283c95f4ce"
      },
      "outputs": [
        {
          "data": {
            "text/plain": [
              "(112, 112, 3)"
            ]
          },
          "execution_count": 16,
          "metadata": {},
          "output_type": "execute_result"
        }
      ],
      "source": [
        "unifected_cell.shape"
      ],
      "id": "e5ba7633"
    },
    {
      "cell_type": "code",
      "execution_count": null,
      "metadata": {
        "colab": {
          "base_uri": "https://localhost:8080/"
        },
        "id": "ca3e726d",
        "outputId": "b08a3d86-84a6-4799-f493-5726bed309e7"
      },
      "outputs": [
        {
          "data": {
            "text/plain": [
              "(148, 142, 3)"
            ]
          },
          "execution_count": 17,
          "metadata": {},
          "output_type": "execute_result"
        }
      ],
      "source": [
        "para_img.shape"
      ],
      "id": "ca3e726d"
    },
    {
      "cell_type": "code",
      "execution_count": null,
      "metadata": {
        "id": "5f33b27d"
      },
      "outputs": [],
      "source": [
        "dim1 = []\n",
        "dim2 = []\n",
        "for image_filename in os.listdir(test_path+'/uninfected'):\n",
        "\n",
        "    img = imread(test_path+'/uninfected'+'/'+image_filename)\n",
        "    d1,d2,colors = img.shape\n",
        "    dim1.append(d1)\n",
        "    dim2.append(d2)"
      ],
      "id": "5f33b27d"
    },
    {
      "cell_type": "code",
      "execution_count": null,
      "metadata": {
        "colab": {
          "base_uri": "https://localhost:8080/",
          "height": 513
        },
        "id": "c8fb56c7",
        "outputId": "bce6c492-c3f3-4655-b3d6-53967b8d27d3"
      },
      "outputs": [
        {
          "name": "stderr",
          "output_type": "stream",
          "text": [
            "/usr/local/lib/python3.7/dist-packages/seaborn/_decorators.py:43: FutureWarning: Pass the following variables as keyword args: x, y. From version 0.12, the only valid positional argument will be `data`, and passing other arguments without an explicit keyword will result in an error or misinterpretation.\n",
            "  FutureWarning\n"
          ]
        },
        {
          "data": {
            "text/plain": [
              "<seaborn.axisgrid.JointGrid at 0x7fde060c7790>"
            ]
          },
          "execution_count": 19,
          "metadata": {},
          "output_type": "execute_result"
        },
        {
          "data": {
            "image/png": "[encoded data removed]",
            "text/plain": [
              "<Figure size 432x432 with 3 Axes>"
            ]
          },
          "metadata": {},
          "output_type": "display_data"
        }
      ],
      "source": [
        "sns.jointplot(dim1,dim2)"
      ],
      "id": "c8fb56c7"
    },
    {
      "cell_type": "code",
      "execution_count": null,
      "metadata": {
        "colab": {
          "base_uri": "https://localhost:8080/"
        },
        "id": "b46c6f91",
        "outputId": "b0fd82ff-202e-4ead-c05e-1f377e127dcd"
      },
      "outputs": [
        {
          "data": {
            "text/plain": [
              "130.92538461538462"
            ]
          },
          "execution_count": 20,
          "metadata": {},
          "output_type": "execute_result"
        }
      ],
      "source": [
        "np.mean(dim1)"
      ],
      "id": "b46c6f91"
    },
    {
      "cell_type": "code",
      "execution_count": null,
      "metadata": {
        "colab": {
          "base_uri": "https://localhost:8080/"
        },
        "id": "0aaad355",
        "outputId": "a4ddeede-63c2-474a-83e1-f689d08516b1"
      },
      "outputs": [
        {
          "data": {
            "text/plain": [
              "130.75"
            ]
          },
          "execution_count": 21,
          "metadata": {},
          "output_type": "execute_result"
        }
      ],
      "source": [
        "np.mean(dim2)"
      ],
      "id": "0aaad355"
    },
    {
      "cell_type": "code",
      "execution_count": null,
      "metadata": {
        "id": "879b12b8"
      },
      "outputs": [],
      "source": [
        "image_shape = (130,130,3)"
      ],
      "id": "879b12b8"
    },
    {
      "cell_type": "code",
      "execution_count": null,
      "metadata": {
        "id": "429edece"
      },
      "outputs": [],
      "source": [
        "from tensorflow.keras.models import Sequential\n",
        "from tensorflow.keras.layers import Activation, Dropout, Flatten, Dense, Conv2D, MaxPooling2D"
      ],
      "id": "429edece"
    },
    {
      "cell_type": "code",
      "execution_count": null,
      "metadata": {
        "id": "53661aa9"
      },
      "outputs": [],
      "source": [
        "model = Sequential()\n",
        "\n",
        "model.add(Conv2D(filters=32, kernel_size=(3,3),input_shape=image_shape, activation='relu',))\n",
        "model.add(MaxPooling2D(pool_size=(2, 2)))\n",
        "\n",
        "model.add(Conv2D(filters=64, kernel_size=(3,3),input_shape=image_shape, activation='relu',))\n",
        "model.add(MaxPooling2D(pool_size=(2, 2)))\n",
        "\n",
        "model.add(Conv2D(filters=64, kernel_size=(3,3),input_shape=image_shape, activation='relu',))\n",
        "model.add(MaxPooling2D(pool_size=(2, 2)))\n",
        "\n",
        "\n",
        "model.add(Flatten())\n",
        "\n",
        "\n",
        "model.add(Dense(128))\n",
        "model.add(Activation('relu'))\n",
        "\n",
        "# Dropouts help reduce overfitting by randomly turning neurons off during training.\n",
        "# Here we say randomly turn off 50% of neurons.\n",
        "model.add(Dropout(0.5))\n",
        "\n",
        "# Last layer, remember its binary so we use sigmoid\n",
        "model.add(Dense(1))\n",
        "model.add(Activation('sigmoid'))\n",
        "\n",
        "model.compile(loss='binary_crossentropy',\n",
        "              optimizer='adam',\n",
        "              metrics=['accuracy'])"
      ],
      "id": "53661aa9"
    },
    {
      "cell_type": "code",
      "execution_count": null,
      "metadata": {
        "colab": {
          "base_uri": "https://localhost:8080/"
        },
        "id": "fcaa8a1b",
        "outputId": "fe11d3cd-2c8f-4993-9152-5a63b8ea7655"
      },
      "outputs": [
        {
          "name": "stdout",
          "output_type": "stream",
          "text": [
            "Model: \"sequential\"\n",
            "_________________________________________________________________\n",
            " Layer (type)                Output Shape              Param #   \n",
            "=================================================================\n",
            " conv2d (Conv2D)             (None, 128, 128, 32)      896       \n",
            "                                                                 \n",
            " max_pooling2d (MaxPooling2D  (None, 64, 64, 32)       0         \n",
            " )                                                               \n",
            "                                                                 \n",
            " conv2d_1 (Conv2D)           (None, 62, 62, 64)        18496     \n",
            "                                                                 \n",
            " max_pooling2d_1 (MaxPooling  (None, 31, 31, 64)       0         \n",
            " 2D)                                                             \n",
            "                                                                 \n",
            " conv2d_2 (Conv2D)           (None, 29, 29, 64)        36928     \n",
            "                                                                 \n",
            " max_pooling2d_2 (MaxPooling  (None, 14, 14, 64)       0         \n",
            " 2D)                                                             \n",
            "                                                                 \n",
            " flatten (Flatten)           (None, 12544)             0         \n",
            "                                                                 \n",
            " dense (Dense)               (None, 128)               1605760   \n",
            "                                                                 \n",
            " activation (Activation)     (None, 128)               0         \n",
            "                                                                 \n",
            " dropout (Dropout)           (None, 128)               0         \n",
            "                                                                 \n",
            " dense_1 (Dense)             (None, 1)                 129       \n",
            "                                                                 \n",
            " activation_1 (Activation)   (None, 1)                 0         \n",
            "                                                                 \n",
            "=================================================================\n",
            "Total params: 1,662,209\n",
            "Trainable params: 1,662,209\n",
            "Non-trainable params: 0\n",
            "_________________________________________________________________\n"
          ]
        }
      ],
      "source": [
        "model.summary()"
      ],
      "id": "fcaa8a1b"
    },
    {
      "cell_type": "code",
      "execution_count": null,
      "metadata": {
        "id": "9dad7a53"
      },
      "outputs": [],
      "source": [
        "batch_size = 16"
      ],
      "id": "9dad7a53"
    },
    {
      "cell_type": "code",
      "execution_count": null,
      "metadata": {
        "id": "a9b66de8"
      },
      "outputs": [],
      "source": [
        "from tensorflow.keras.preprocessing.image import ImageDataGenerator"
      ],
      "id": "a9b66de8"
    },
    {
      "cell_type": "code",
      "execution_count": null,
      "metadata": {
        "id": "02e656f3"
      },
      "outputs": [],
      "source": [
        "image_gen = ImageDataGenerator(rotation_range=20, # rotate the image 20 degrees\n",
        "                               width_shift_range=0.10, # Shift the pic width by a max of 5%\n",
        "                               height_shift_range=0.10, # Shift the pic height by a max of 5%\n",
        "                               rescale=1/255, # Rescale the image by normalzing it.\n",
        "                               shear_range=0.1, # Shear means cutting away part of the image (max 10%)\n",
        "                               zoom_range=0.1, # Zoom in by 10% max\n",
        "                               horizontal_flip=True, # Allo horizontal flipping\n",
        "                               fill_mode='nearest' # Fill in missing pixels with the nearest filled value\n",
        "                              )"
      ],
      "id": "02e656f3"
    },
    {
      "cell_type": "code",
      "execution_count": null,
      "metadata": {
        "colab": {
          "base_uri": "https://localhost:8080/",
          "height": 286
        },
        "id": "262367a6",
        "outputId": "0675c83a-38fc-4f0c-c126-806075ba4233"
      },
      "outputs": [
        {
          "data": {
            "text/plain": [
              "<matplotlib.image.AxesImage at 0x7fdd96e14690>"
            ]
          },
          "execution_count": 29,
          "metadata": {},
          "output_type": "execute_result"
        },
        {
          "data": {
            "image/png": "[encoded data removed]",
            "text/plain": [
              "<Figure size 432x288 with 1 Axes>"
            ]
          },
          "metadata": {},
          "output_type": "display_data"
        }
      ],
      "source": [
        "plt.imshow(para_img)"
      ],
      "id": "262367a6"
    },
    {
      "cell_type": "code",
      "execution_count": null,
      "metadata": {
        "colab": {
          "base_uri": "https://localhost:8080/",
          "height": 286
        },
        "id": "ebb70c39",
        "outputId": "2da9140d-0f26-4733-b711-09f2a43feb37"
      },
      "outputs": [
        {
          "data": {
            "text/plain": [
              "<matplotlib.image.AxesImage at 0x7fdd9ac29890>"
            ]
          },
          "execution_count": 30,
          "metadata": {},
          "output_type": "execute_result"
        },
        {
          "data": {
            "image/png": "[encoded data removed]",
            "text/plain": [
              "<Figure size 432x288 with 1 Axes>"
            ]
          },
          "metadata": {},
          "output_type": "display_data"
        }
      ],
      "source": [
        "plt.imshow(image_gen.random_transform(para_img))"
      ],
      "id": "ebb70c39"
    },
    {
      "cell_type": "code",
      "execution_count": null,
      "metadata": {
        "colab": {
          "base_uri": "https://localhost:8080/",
          "height": 286
        },
        "id": "2eb83f24",
        "outputId": "518691ea-31a8-4caa-9882-36350479c66c"
      },
      "outputs": [
        {
          "data": {
            "text/plain": [
              "<matplotlib.image.AxesImage at 0x7fdd96d39810>"
            ]
          },
          "execution_count": 31,
          "metadata": {},
          "output_type": "execute_result"
        },
        {
          "data": {
            "image/png": "[encoded data removed]",
            "text/plain": [
              "<Figure size 432x288 with 1 Axes>"
            ]
          },
          "metadata": {},
          "output_type": "display_data"
        }
      ],
      "source": [
        "plt.imshow(image_gen.random_transform(para_img))"
      ],
      "id": "2eb83f24"
    },
    {
      "cell_type": "code",
      "execution_count": null,
      "metadata": {
        "colab": {
          "base_uri": "https://localhost:8080/"
        },
        "id": "1e705008",
        "outputId": "d0426d84-78d5-4e1f-aa85-fd43bd82987c"
      },
      "outputs": [
        {
          "name": "stdout",
          "output_type": "stream",
          "text": [
            "Found 24988 images belonging to 2 classes.\n"
          ]
        },
        {
          "data": {
            "text/plain": [
              "<keras.preprocessing.image.DirectoryIterator at 0x7fdd96cfa910>"
            ]
          },
          "execution_count": 32,
          "metadata": {},
          "output_type": "execute_result"
        }
      ],
      "source": [
        "image_gen.flow_from_directory(train_path)"
      ],
      "id": "1e705008"
    },
    {
      "cell_type": "code",
      "execution_count": null,
      "metadata": {
        "colab": {
          "base_uri": "https://localhost:8080/"
        },
        "id": "36abe937",
        "outputId": "2c3865cd-1069-460d-a462-5e9541844800"
      },
      "outputs": [
        {
          "name": "stdout",
          "output_type": "stream",
          "text": [
            "Found 2600 images belonging to 2 classes.\n"
          ]
        },
        {
          "data": {
            "text/plain": [
              "<keras.preprocessing.image.DirectoryIterator at 0x7fdd96c91610>"
            ]
          },
          "execution_count": 33,
          "metadata": {},
          "output_type": "execute_result"
        }
      ],
      "source": [
        "image_gen.flow_from_directory(test_path)"
      ],
      "id": "36abe937"
    },
    {
      "cell_type": "code",
      "execution_count": null,
      "metadata": {
        "colab": {
          "base_uri": "https://localhost:8080/"
        },
        "id": "4737f79f",
        "outputId": "9f0b86ba-bbdb-451c-8a31-37776bce6f90"
      },
      "outputs": [
        {
          "name": "stdout",
          "output_type": "stream",
          "text": [
            "Found 24988 images belonging to 2 classes.\n"
          ]
        }
      ],
      "source": [
        "train_image_gen = image_gen.flow_from_directory(train_path,\n",
        "                                               target_size=image_shape[:2],\n",
        "                                                color_mode='rgb',\n",
        "                                               batch_size=batch_size,\n",
        "                                               class_mode='binary')"
      ],
      "id": "4737f79f"
    },
    {
      "cell_type": "code",
      "execution_count": null,
      "metadata": {
        "colab": {
          "base_uri": "https://localhost:8080/"
        },
        "id": "f4b1f414",
        "outputId": "07c6b2f6-34bb-415f-fe26-098267ef8f94"
      },
      "outputs": [
        {
          "name": "stdout",
          "output_type": "stream",
          "text": [
            "Found 2600 images belonging to 2 classes.\n"
          ]
        }
      ],
      "source": [
        "test_image_gen = image_gen.flow_from_directory(test_path,\n",
        "                                               target_size=image_shape[:2],\n",
        "                                               color_mode='rgb',\n",
        "                                               batch_size=batch_size,\n",
        "                                               class_mode='binary',shuffle=False)"
      ],
      "id": "f4b1f414"
    },
    {
      "cell_type": "code",
      "execution_count": null,
      "metadata": {
        "colab": {
          "base_uri": "https://localhost:8080/"
        },
        "id": "d54236b6",
        "outputId": "694f2e87-cc40-4817-c317-a462f7b4c67b"
      },
      "outputs": [
        {
          "data": {
            "text/plain": [
              "{'parasitized': 0, 'uninfected': 1}"
            ]
          },
          "execution_count": 36,
          "metadata": {},
          "output_type": "execute_result"
        }
      ],
      "source": [
        "train_image_gen.class_indices"
      ],
      "id": "d54236b6"
    },
    {
      "cell_type": "code",
      "execution_count": null,
      "metadata": {
        "id": "ccb1fa94"
      },
      "outputs": [],
      "source": [
        "import warnings\n",
        "warnings.filterwarnings('ignore')"
      ],
      "id": "ccb1fa94"
    },
    {
      "cell_type": "code",
      "execution_count": null,
      "metadata": {
        "id": "b3bddec7"
      },
      "outputs": [],
      "source": [
        "from tensorflow.keras.callbacks import EarlyStopping"
      ],
      "id": "b3bddec7"
    },
    {
      "cell_type": "code",
      "execution_count": null,
      "metadata": {
        "id": "bac5e8c9"
      },
      "outputs": [],
      "source": [
        "early_stop = EarlyStopping(monitor='val_loss',patience=2)"
      ],
      "id": "bac5e8c9"
    },
    {
      "cell_type": "code",
      "execution_count": null,
      "metadata": {
        "colab": {
          "background_save": true,
          "base_uri": "https://localhost:8080/"
        },
        "id": "b90033d2",
        "outputId": "939dfa9e-750c-4007-bb15-d73ee789b528"
      },
      "outputs": [
        {
          "name": "stdout",
          "output_type": "stream",
          "text": [
            "Epoch 1/20\n",
            "1562/1562 [==============================] - 3887s 2s/step - loss: 0.3896 - accuracy: 0.8338 - val_loss: 0.1977 - val_accuracy: 0.9292\n",
            "Epoch 2/20\n",
            "1562/1562 [==============================] - 801s 513ms/step - loss: 0.1890 - accuracy: 0.9401 - val_loss: 0.1719 - val_accuracy: 0.9427\n",
            "Epoch 3/20\n",
            "1562/1562 [==============================] - 805s 515ms/step - loss: 0.1694 - accuracy: 0.9479 - val_loss: 0.1789 - val_accuracy: 0.9446\n",
            "Epoch 4/20\n",
            "1562/1562 [==============================] - 801s 513ms/step - loss: 0.1664 - accuracy: 0.9478 - val_loss: 0.1606 - val_accuracy: 0.9458\n",
            "Epoch 5/20\n",
            "1562/1562 [==============================] - 802s 513ms/step - loss: 0.1616 - accuracy: 0.9489 - val_loss: 0.1617 - val_accuracy: 0.9400\n",
            "Epoch 6/20\n",
            "1562/1562 [==============================] - 803s 514ms/step - loss: 0.1571 - accuracy: 0.9511 - val_loss: 0.1675 - val_accuracy: 0.9454\n"
          ]
        }
      ],
      "source": [
        "results = model.fit_generator(train_image_gen,epochs=20,\n",
        "                              validation_data=test_image_gen,\n",
        "                             callbacks=[early_stop])"
      ],
      "id": "b90033d2"
    },
    {
      "cell_type": "code",
      "execution_count": null,
      "metadata": {
        "colab": {
          "background_save": true
        },
        "id": "efb04da5"
      },
      "outputs": [],
      "source": [
        "from tensorflow.keras.models import load_model\n",
        "model.save('malaria_detector.h5')"
      ],
      "id": "efb04da5"
    },
    {
      "cell_type": "code",
      "execution_count": null,
      "metadata": {
        "colab": {
          "background_save": true
        },
        "id": "9f1edbfc"
      },
      "outputs": [],
      "source": [
        "losses = pd.DataFrame(model.history.history)"
      ],
      "id": "9f1edbfc"
    },
    {
      "cell_type": "code",
      "execution_count": null,
      "metadata": {
        "colab": {
          "background_save": true
        },
        "id": "26a383a5",
        "outputId": "197f1790-a897-48c5-85f3-cda31b35f1ff"
      },
      "outputs": [
        {
          "data": {
            "text/plain": [
              "<matplotlib.axes._subplots.AxesSubplot at 0x7fdd95834e90>"
            ]
          },
          "execution_count": null,
          "metadata": {},
          "output_type": "execute_result"
        },
        {
          "data": {
            "image/png": "[encoded data removed]",
            "text/plain": [
              "<Figure size 432x288 with 1 Axes>"
            ]
          },
          "metadata": {},
          "output_type": "display_data"
        }
      ],
      "source": [
        "losses[['loss','val_loss']].plot()"
      ],
      "id": "26a383a5"
    },
    {
      "cell_type": "code",
      "execution_count": null,
      "metadata": {
        "colab": {
          "background_save": true
        },
        "id": "be5182aa",
        "outputId": "fec4b666-ff16-4b11-f0fa-242f43e54994"
      },
      "outputs": [
        {
          "data": {
            "text/plain": [
              "['loss', 'accuracy']"
            ]
          },
          "execution_count": null,
          "metadata": {},
          "output_type": "execute_result"
        }
      ],
      "source": [
        "model.metrics_names"
      ],
      "id": "be5182aa"
    },
    {
      "cell_type": "code",
      "execution_count": null,
      "metadata": {
        "colab": {
          "background_save": true
        },
        "id": "f0a98006",
        "outputId": "5032aab8-38c8-40af-ace0-36639fb96d55"
      },
      "outputs": [
        {
          "data": {
            "text/plain": [
              "[0.14819806814193726, 0.947692334651947]"
            ]
          },
          "execution_count": null,
          "metadata": {},
          "output_type": "execute_result"
        }
      ],
      "source": [
        "model.evaluate_generator(test_image_gen)"
      ],
      "id": "f0a98006"
    },
    {
      "cell_type": "code",
      "execution_count": null,
      "metadata": {
        "colab": {
          "background_save": true
        },
        "id": "cd010509"
      },
      "outputs": [],
      "source": [
        "pred_probabilities = model.predict_generator(test_image_gen)"
      ],
      "id": "cd010509"
    },
    {
      "cell_type": "code",
      "execution_count": null,
      "metadata": {
        "colab": {
          "background_save": true
        },
        "id": "15949fa9",
        "outputId": "724015fd-64ef-440b-a7eb-94ad7001017c"
      },
      "outputs": [
        {
          "data": {
            "text/plain": [
              "array([[4.1418392e-07],\n",
              "       [2.6431549e-06],\n",
              "       [1.8801684e-05],\n",
              "       ...,\n",
              "       [9.6260595e-01],\n",
              "       [9.8340970e-01],\n",
              "       [9.8516840e-01]], dtype=float32)"
            ]
          },
          "execution_count": null,
          "metadata": {},
          "output_type": "execute_result"
        }
      ],
      "source": [
        "pred_probabilities"
      ],
      "id": "15949fa9"
    },
    {
      "cell_type": "code",
      "execution_count": null,
      "metadata": {
        "colab": {
          "background_save": true
        },
        "id": "ce6b5746",
        "outputId": "c576f7a5-f26f-4f95-a699-d1a3d1f60dd7"
      },
      "outputs": [
        {
          "data": {
            "text/plain": [
              "array([0, 0, 0, ..., 1, 1, 1], dtype=int32)"
            ]
          },
          "execution_count": null,
          "metadata": {},
          "output_type": "execute_result"
        }
      ],
      "source": [
        "test_image_gen.classes"
      ],
      "id": "ce6b5746"
    },
    {
      "cell_type": "code",
      "execution_count": null,
      "metadata": {
        "colab": {
          "background_save": true
        },
        "id": "cf722ac5"
      },
      "outputs": [],
      "source": [
        "predictions = pred_probabilities > 0.5"
      ],
      "id": "cf722ac5"
    },
    {
      "cell_type": "code",
      "execution_count": null,
      "metadata": {
        "id": "daf5d848"
      },
      "outputs": [],
      "source": [
        "# Numpy can treat this as True/False for us\n",
        "predictions"
      ],
      "id": "daf5d848"
    },
    {
      "cell_type": "code",
      "execution_count": null,
      "metadata": {
        "colab": {
          "background_save": true
        },
        "id": "957119fb"
      },
      "outputs": [],
      "source": [
        "from sklearn.metrics import classification_report,confusion_matrix"
      ],
      "id": "957119fb"
    },
    {
      "cell_type": "code",
      "execution_count": null,
      "metadata": {
        "colab": {
          "background_save": true
        },
        "id": "aa5609c9",
        "outputId": "4ef08206-1113-4700-b204-124e8e2305fc"
      },
      "outputs": [
        {
          "name": "stdout",
          "output_type": "stream",
          "text": [
            "              precision    recall  f1-score   support\n",
            "\n",
            "           0       0.95      0.94      0.94      1300\n",
            "           1       0.94      0.95      0.94      1300\n",
            "\n",
            "    accuracy                           0.94      2600\n",
            "   macro avg       0.94      0.94      0.94      2600\n",
            "weighted avg       0.94      0.94      0.94      2600\n",
            "\n"
          ]
        }
      ],
      "source": [
        "print(classification_report(test_image_gen.classes,predictions))"
      ],
      "id": "aa5609c9"
    },
    {
      "cell_type": "code",
      "execution_count": null,
      "metadata": {
        "colab": {
          "background_save": true
        },
        "id": "efe70afa",
        "outputId": "4ac2657c-9799-4caf-cc65-c81d4ed607e9"
      },
      "outputs": [
        {
          "data": {
            "text/plain": [
              "array([[1220,   80],\n",
              "       [  68, 1232]])"
            ]
          },
          "execution_count": null,
          "metadata": {},
          "output_type": "execute_result"
        }
      ],
      "source": [
        "confusion_matrix(test_image_gen.classes,predictions)"
      ],
      "id": "efe70afa"
    },
    {
      "cell_type": "code",
      "execution_count": null,
      "metadata": {
        "colab": {
          "background_save": true
        },
        "id": "95959ae2",
        "outputId": "100ca0c0-fc27-4be9-a48f-dc514c13b5a9"
      },
      "outputs": [
        {
          "data": {
            "application/vnd.google.colaboratory.intrinsic+json": {
              "type": "string"
            },
            "text/plain": [
              "'/content/drive/MyDrive/FINAL_TF2_FILES/cell_images/train/parasitized/C100P61ThinF_IMG_20150918_144104_cell_162.png'"
            ]
          },
          "execution_count": null,
          "metadata": {},
          "output_type": "execute_result"
        }
      ],
      "source": [
        "para_cell"
      ],
      "id": "95959ae2"
    },
    {
      "cell_type": "code",
      "execution_count": null,
      "metadata": {
        "colab": {
          "background_save": true
        },
        "id": "910a8acf"
      },
      "outputs": [],
      "source": [
        "from tensorflow.keras.preprocessing import image"
      ],
      "id": "910a8acf"
    },
    {
      "cell_type": "code",
      "execution_count": null,
      "metadata": {
        "colab": {
          "background_save": true
        },
        "id": "c0c7cef4"
      },
      "outputs": [],
      "source": [
        "my_image = image.load_img(para_cell,target_size=image_shape)"
      ],
      "id": "c0c7cef4"
    },
    {
      "cell_type": "code",
      "execution_count": null,
      "metadata": {
        "colab": {
          "background_save": true
        },
        "id": "af33732f",
        "outputId": "46146224-1100-42ac-8e8c-b8c41d293299"
      },
      "outputs": [
        {
          "data": {
            "image/png": "[encoded data removed]",
            "text/plain": [
              "<PIL.Image.Image image mode=RGB size=130x130 at 0x7FDD95731190>"
            ]
          },
          "execution_count": null,
          "metadata": {},
          "output_type": "execute_result"
        }
      ],
      "source": [
        "my_image"
      ],
      "id": "af33732f"
    },
    {
      "cell_type": "code",
      "execution_count": null,
      "metadata": {
        "colab": {
          "background_save": true
        },
        "id": "ae75f639",
        "outputId": "d96cec49-68ab-49c5-94ef-b97fc57a0b42"
      },
      "outputs": [
        {
          "data": {
            "text/plain": [
              "PIL.Image.Image"
            ]
          },
          "execution_count": null,
          "metadata": {},
          "output_type": "execute_result"
        }
      ],
      "source": [
        "type(my_image)"
      ],
      "id": "ae75f639"
    },
    {
      "cell_type": "code",
      "execution_count": null,
      "metadata": {
        "colab": {
          "background_save": true
        },
        "id": "6e09cc9b"
      },
      "outputs": [],
      "source": [
        "my_image = image.img_to_array(my_image)"
      ],
      "id": "6e09cc9b"
    },
    {
      "cell_type": "code",
      "execution_count": null,
      "metadata": {
        "colab": {
          "background_save": true
        },
        "id": "8b98496a",
        "outputId": "25259017-b638-46a3-a198-6f585797172d"
      },
      "outputs": [
        {
          "data": {
            "text/plain": [
              "numpy.ndarray"
            ]
          },
          "execution_count": null,
          "metadata": {},
          "output_type": "execute_result"
        }
      ],
      "source": [
        "type(my_image)"
      ],
      "id": "8b98496a"
    },
    {
      "cell_type": "code",
      "execution_count": null,
      "metadata": {
        "colab": {
          "background_save": true
        },
        "id": "e09927e3",
        "outputId": "93dde1b1-3e9c-4e47-d360-3263027e9890"
      },
      "outputs": [
        {
          "data": {
            "text/plain": [
              "(130, 130, 3)"
            ]
          },
          "execution_count": null,
          "metadata": {},
          "output_type": "execute_result"
        }
      ],
      "source": [
        "my_image.shape"
      ],
      "id": "e09927e3"
    },
    {
      "cell_type": "code",
      "execution_count": null,
      "metadata": {
        "colab": {
          "background_save": true
        },
        "id": "29ec74ed"
      },
      "outputs": [],
      "source": [
        "my_image = np.expand_dims(my_image, axis=0)"
      ],
      "id": "29ec74ed"
    },
    {
      "cell_type": "code",
      "execution_count": null,
      "metadata": {
        "colab": {
          "background_save": true
        },
        "id": "7d98bb92",
        "outputId": "42b66e9a-e213-47ff-ae74-f4e19a721bab"
      },
      "outputs": [
        {
          "data": {
            "text/plain": [
              "(1, 130, 130, 3)"
            ]
          },
          "execution_count": null,
          "metadata": {},
          "output_type": "execute_result"
        }
      ],
      "source": [
        "my_image.shape"
      ],
      "id": "7d98bb92"
    },
    {
      "cell_type": "code",
      "execution_count": null,
      "metadata": {
        "colab": {
          "background_save": true
        },
        "id": "0fd941e6",
        "outputId": "5cbd7958-5b4b-4df4-9a91-bbad7b2ea883"
      },
      "outputs": [
        {
          "data": {
            "text/plain": [
              "array([[0.]], dtype=float32)"
            ]
          },
          "execution_count": null,
          "metadata": {},
          "output_type": "execute_result"
        }
      ],
      "source": [
        "model.predict(my_image)"
      ],
      "id": "0fd941e6"
    },
    {
      "cell_type": "code",
      "execution_count": null,
      "metadata": {
        "colab": {
          "background_save": true
        },
        "id": "47e60436",
        "outputId": "d41dcacb-5401-41f3-ca30-6791d3c3f511"
      },
      "outputs": [
        {
          "data": {
            "text/plain": [
              "{'parasitized': 0, 'uninfected': 1}"
            ]
          },
          "execution_count": null,
          "metadata": {},
          "output_type": "execute_result"
        }
      ],
      "source": [
        "train_image_gen.class_indices"
      ],
      "id": "47e60436"
    },
    {
      "cell_type": "code",
      "execution_count": null,
      "metadata": {
        "colab": {
          "background_save": true
        },
        "id": "3e6b1643",
        "outputId": "ae06d371-b05e-46ca-a6dd-68352f3869d5"
      },
      "outputs": [
        {
          "data": {
            "text/plain": [
              "{'parasitized': 0, 'uninfected': 1}"
            ]
          },
          "execution_count": null,
          "metadata": {},
          "output_type": "execute_result"
        }
      ],
      "source": [
        "test_image_gen.class_indices"
      ],
      "id": "3e6b1643"
    }
  ],
  "metadata": {
    "colab": {
      "provenance": []
    },
    "kernelspec": {
      "display_name": "Python 3 (ipykernel)",
      "language": "python",
      "name": "python3"
    },
    "language_info": {
      "codemirror_mode": {
        "name": "ipython",
        "version": 3
      },
      "file_extension": ".py",
      "mimetype": "text/x-python",
      "name": "python",
      "nbconvert_exporter": "python",
      "pygments_lexer": "ipython3",
      "version": "3.9.7"
    }
  },
  "nbformat": 4,
  "nbformat_minor": 5
}